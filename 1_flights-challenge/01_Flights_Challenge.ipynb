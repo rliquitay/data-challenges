{
  "cells": [
    {
      "cell_type": "markdown",
      "metadata": {
        "id": "TbrFFxaG61Oi"
      },
      "source": [
        "# Flights Data Exploration Challenge\n",
        "\n",
        "In this challenge, you'll explore a real-world dataset containing flights data from the US Department of Transportation.\n",
        "\n",
        "Let's start by loading and viewing the data."
      ]
    },
    {
      "cell_type": "code",
      "source": [
        "import matplotlib.pyplot as plt\n",
        "import seaborn as sns\n",
        "import numpy as np"
      ],
      "metadata": {
        "id": "6v4vi_-ALDUM"
      },
      "execution_count": 109,
      "outputs": []
    },
    {
      "cell_type": "code",
      "execution_count": 110,
      "metadata": {
        "colab": {
          "base_uri": "https://localhost:8080/",
          "height": 409
        },
        "id": "nYt5SlzG61Ok",
        "outputId": "aa29cf98-f8fe-482b-ef95-10160d02ee9d"
      },
      "outputs": [
        {
          "output_type": "execute_result",
          "data": {
            "text/plain": [
              "   Year  Month  DayofMonth  DayOfWeek Carrier  OriginAirportID  \\\n",
              "0  2013      9          16          1      DL            15304   \n",
              "1  2013      9          23          1      WN            14122   \n",
              "2  2013      9           7          6      AS            14747   \n",
              "3  2013      7          22          1      OO            13930   \n",
              "4  2013      5          16          4      DL            13931   \n",
              "\n",
              "              OriginAirportName  OriginCity OriginState  DestAirportID  \\\n",
              "0           Tampa International       Tampa          FL          12478   \n",
              "1      Pittsburgh International  Pittsburgh          PA          13232   \n",
              "2  Seattle/Tacoma International     Seattle          WA          11278   \n",
              "3  Chicago O'Hare International     Chicago          IL          11042   \n",
              "4         Norfolk International     Norfolk          VA          10397   \n",
              "\n",
              "                            DestAirportName    DestCity DestState  CRSDepTime  \\\n",
              "0             John F. Kennedy International    New York        NY        1539   \n",
              "1              Chicago Midway International     Chicago        IL         710   \n",
              "2         Ronald Reagan Washington National  Washington        DC         810   \n",
              "3           Cleveland-Hopkins International   Cleveland        OH         804   \n",
              "4  Hartsfield-Jackson Atlanta International     Atlanta        GA         545   \n",
              "\n",
              "   DepDelay  DepDel15  CRSArrTime  ArrDelay  ArrDel15  Cancelled  \n",
              "0         4       0.0        1824        13         0          0  \n",
              "1         3       0.0         740        22         1          0  \n",
              "2        -3       0.0        1614        -7         0          0  \n",
              "3        35       1.0        1027        33         1          0  \n",
              "4        -1       0.0         728        -9         0          0  "
            ],
            "text/html": [
              "\n",
              "  <div id=\"df-d2ef2ada-5cff-4f09-8c9e-3603cb1ac688\">\n",
              "    <div class=\"colab-df-container\">\n",
              "      <div>\n",
              "<style scoped>\n",
              "    .dataframe tbody tr th:only-of-type {\n",
              "        vertical-align: middle;\n",
              "    }\n",
              "\n",
              "    .dataframe tbody tr th {\n",
              "        vertical-align: top;\n",
              "    }\n",
              "\n",
              "    .dataframe thead th {\n",
              "        text-align: right;\n",
              "    }\n",
              "</style>\n",
              "<table border=\"1\" class=\"dataframe\">\n",
              "  <thead>\n",
              "    <tr style=\"text-align: right;\">\n",
              "      <th></th>\n",
              "      <th>Year</th>\n",
              "      <th>Month</th>\n",
              "      <th>DayofMonth</th>\n",
              "      <th>DayOfWeek</th>\n",
              "      <th>Carrier</th>\n",
              "      <th>OriginAirportID</th>\n",
              "      <th>OriginAirportName</th>\n",
              "      <th>OriginCity</th>\n",
              "      <th>OriginState</th>\n",
              "      <th>DestAirportID</th>\n",
              "      <th>DestAirportName</th>\n",
              "      <th>DestCity</th>\n",
              "      <th>DestState</th>\n",
              "      <th>CRSDepTime</th>\n",
              "      <th>DepDelay</th>\n",
              "      <th>DepDel15</th>\n",
              "      <th>CRSArrTime</th>\n",
              "      <th>ArrDelay</th>\n",
              "      <th>ArrDel15</th>\n",
              "      <th>Cancelled</th>\n",
              "    </tr>\n",
              "  </thead>\n",
              "  <tbody>\n",
              "    <tr>\n",
              "      <th>0</th>\n",
              "      <td>2013</td>\n",
              "      <td>9</td>\n",
              "      <td>16</td>\n",
              "      <td>1</td>\n",
              "      <td>DL</td>\n",
              "      <td>15304</td>\n",
              "      <td>Tampa International</td>\n",
              "      <td>Tampa</td>\n",
              "      <td>FL</td>\n",
              "      <td>12478</td>\n",
              "      <td>John F. Kennedy International</td>\n",
              "      <td>New York</td>\n",
              "      <td>NY</td>\n",
              "      <td>1539</td>\n",
              "      <td>4</td>\n",
              "      <td>0.0</td>\n",
              "      <td>1824</td>\n",
              "      <td>13</td>\n",
              "      <td>0</td>\n",
              "      <td>0</td>\n",
              "    </tr>\n",
              "    <tr>\n",
              "      <th>1</th>\n",
              "      <td>2013</td>\n",
              "      <td>9</td>\n",
              "      <td>23</td>\n",
              "      <td>1</td>\n",
              "      <td>WN</td>\n",
              "      <td>14122</td>\n",
              "      <td>Pittsburgh International</td>\n",
              "      <td>Pittsburgh</td>\n",
              "      <td>PA</td>\n",
              "      <td>13232</td>\n",
              "      <td>Chicago Midway International</td>\n",
              "      <td>Chicago</td>\n",
              "      <td>IL</td>\n",
              "      <td>710</td>\n",
              "      <td>3</td>\n",
              "      <td>0.0</td>\n",
              "      <td>740</td>\n",
              "      <td>22</td>\n",
              "      <td>1</td>\n",
              "      <td>0</td>\n",
              "    </tr>\n",
              "    <tr>\n",
              "      <th>2</th>\n",
              "      <td>2013</td>\n",
              "      <td>9</td>\n",
              "      <td>7</td>\n",
              "      <td>6</td>\n",
              "      <td>AS</td>\n",
              "      <td>14747</td>\n",
              "      <td>Seattle/Tacoma International</td>\n",
              "      <td>Seattle</td>\n",
              "      <td>WA</td>\n",
              "      <td>11278</td>\n",
              "      <td>Ronald Reagan Washington National</td>\n",
              "      <td>Washington</td>\n",
              "      <td>DC</td>\n",
              "      <td>810</td>\n",
              "      <td>-3</td>\n",
              "      <td>0.0</td>\n",
              "      <td>1614</td>\n",
              "      <td>-7</td>\n",
              "      <td>0</td>\n",
              "      <td>0</td>\n",
              "    </tr>\n",
              "    <tr>\n",
              "      <th>3</th>\n",
              "      <td>2013</td>\n",
              "      <td>7</td>\n",
              "      <td>22</td>\n",
              "      <td>1</td>\n",
              "      <td>OO</td>\n",
              "      <td>13930</td>\n",
              "      <td>Chicago O'Hare International</td>\n",
              "      <td>Chicago</td>\n",
              "      <td>IL</td>\n",
              "      <td>11042</td>\n",
              "      <td>Cleveland-Hopkins International</td>\n",
              "      <td>Cleveland</td>\n",
              "      <td>OH</td>\n",
              "      <td>804</td>\n",
              "      <td>35</td>\n",
              "      <td>1.0</td>\n",
              "      <td>1027</td>\n",
              "      <td>33</td>\n",
              "      <td>1</td>\n",
              "      <td>0</td>\n",
              "    </tr>\n",
              "    <tr>\n",
              "      <th>4</th>\n",
              "      <td>2013</td>\n",
              "      <td>5</td>\n",
              "      <td>16</td>\n",
              "      <td>4</td>\n",
              "      <td>DL</td>\n",
              "      <td>13931</td>\n",
              "      <td>Norfolk International</td>\n",
              "      <td>Norfolk</td>\n",
              "      <td>VA</td>\n",
              "      <td>10397</td>\n",
              "      <td>Hartsfield-Jackson Atlanta International</td>\n",
              "      <td>Atlanta</td>\n",
              "      <td>GA</td>\n",
              "      <td>545</td>\n",
              "      <td>-1</td>\n",
              "      <td>0.0</td>\n",
              "      <td>728</td>\n",
              "      <td>-9</td>\n",
              "      <td>0</td>\n",
              "      <td>0</td>\n",
              "    </tr>\n",
              "  </tbody>\n",
              "</table>\n",
              "</div>\n",
              "      <button class=\"colab-df-convert\" onclick=\"convertToInteractive('df-d2ef2ada-5cff-4f09-8c9e-3603cb1ac688')\"\n",
              "              title=\"Convert this dataframe to an interactive table.\"\n",
              "              style=\"display:none;\">\n",
              "        \n",
              "  <svg xmlns=\"http://www.w3.org/2000/svg\" height=\"24px\"viewBox=\"0 0 24 24\"\n",
              "       width=\"24px\">\n",
              "    <path d=\"M0 0h24v24H0V0z\" fill=\"none\"/>\n",
              "    <path d=\"M18.56 5.44l.94 2.06.94-2.06 2.06-.94-2.06-.94-.94-2.06-.94 2.06-2.06.94zm-11 1L8.5 8.5l.94-2.06 2.06-.94-2.06-.94L8.5 2.5l-.94 2.06-2.06.94zm10 10l.94 2.06.94-2.06 2.06-.94-2.06-.94-.94-2.06-.94 2.06-2.06.94z\"/><path d=\"M17.41 7.96l-1.37-1.37c-.4-.4-.92-.59-1.43-.59-.52 0-1.04.2-1.43.59L10.3 9.45l-7.72 7.72c-.78.78-.78 2.05 0 2.83L4 21.41c.39.39.9.59 1.41.59.51 0 1.02-.2 1.41-.59l7.78-7.78 2.81-2.81c.8-.78.8-2.07 0-2.86zM5.41 20L4 18.59l7.72-7.72 1.47 1.35L5.41 20z\"/>\n",
              "  </svg>\n",
              "      </button>\n",
              "      \n",
              "  <style>\n",
              "    .colab-df-container {\n",
              "      display:flex;\n",
              "      flex-wrap:wrap;\n",
              "      gap: 12px;\n",
              "    }\n",
              "\n",
              "    .colab-df-convert {\n",
              "      background-color: #E8F0FE;\n",
              "      border: none;\n",
              "      border-radius: 50%;\n",
              "      cursor: pointer;\n",
              "      display: none;\n",
              "      fill: #1967D2;\n",
              "      height: 32px;\n",
              "      padding: 0 0 0 0;\n",
              "      width: 32px;\n",
              "    }\n",
              "\n",
              "    .colab-df-convert:hover {\n",
              "      background-color: #E2EBFA;\n",
              "      box-shadow: 0px 1px 2px rgba(60, 64, 67, 0.3), 0px 1px 3px 1px rgba(60, 64, 67, 0.15);\n",
              "      fill: #174EA6;\n",
              "    }\n",
              "\n",
              "    [theme=dark] .colab-df-convert {\n",
              "      background-color: #3B4455;\n",
              "      fill: #D2E3FC;\n",
              "    }\n",
              "\n",
              "    [theme=dark] .colab-df-convert:hover {\n",
              "      background-color: #434B5C;\n",
              "      box-shadow: 0px 1px 3px 1px rgba(0, 0, 0, 0.15);\n",
              "      filter: drop-shadow(0px 1px 2px rgba(0, 0, 0, 0.3));\n",
              "      fill: #FFFFFF;\n",
              "    }\n",
              "  </style>\n",
              "\n",
              "      <script>\n",
              "        const buttonEl =\n",
              "          document.querySelector('#df-d2ef2ada-5cff-4f09-8c9e-3603cb1ac688 button.colab-df-convert');\n",
              "        buttonEl.style.display =\n",
              "          google.colab.kernel.accessAllowed ? 'block' : 'none';\n",
              "\n",
              "        async function convertToInteractive(key) {\n",
              "          const element = document.querySelector('#df-d2ef2ada-5cff-4f09-8c9e-3603cb1ac688');\n",
              "          const dataTable =\n",
              "            await google.colab.kernel.invokeFunction('convertToInteractive',\n",
              "                                                     [key], {});\n",
              "          if (!dataTable) return;\n",
              "\n",
              "          const docLinkHtml = 'Like what you see? Visit the ' +\n",
              "            '<a target=\"_blank\" href=https://colab.research.google.com/notebooks/data_table.ipynb>data table notebook</a>'\n",
              "            + ' to learn more about interactive tables.';\n",
              "          element.innerHTML = '';\n",
              "          dataTable['output_type'] = 'display_data';\n",
              "          await google.colab.output.renderOutput(dataTable, element);\n",
              "          const docLink = document.createElement('div');\n",
              "          docLink.innerHTML = docLinkHtml;\n",
              "          element.appendChild(docLink);\n",
              "        }\n",
              "      </script>\n",
              "    </div>\n",
              "  </div>\n",
              "  "
            ]
          },
          "metadata": {},
          "execution_count": 110
        }
      ],
      "source": [
        "import pandas as pd\n",
        "\n",
        "df_flights = pd.read_csv('/content/flights.csv')\n",
        "df_flights.head()"
      ]
    },
    {
      "cell_type": "markdown",
      "metadata": {
        "id": "Ilg_4Q6N61Ol"
      },
      "source": [
        "The dataset contains observations of US domestic flights in 2013, and consists of the following fields:\n",
        "\n",
        "- **Year**: The year of the flight (all records are from 2013)\n",
        "- **Month**: The month of the flight\n",
        "- **DayofMonth**: The day of the month on which the flight departed\n",
        "- **DayOfWeek**: The day of the week on which the flight departed - from 1 (Monday) to 7 (Sunday)\n",
        "- **Carrier**: The two-letter abbreviation for the airline.\n",
        "- **OriginAirportID**: A unique numeric identifier for the departure aiport\n",
        "- **OriginAirportName**: The full name of the departure airport\n",
        "- **OriginCity**: The departure airport city\n",
        "- **OriginState**: The departure airport state\n",
        "- **DestAirportID**: A unique numeric identifier for the destination aiport\n",
        "- **DestAirportName**: The full name of the destination airport\n",
        "- **DestCity**: The destination airport city\n",
        "- **DestState**: The destination airport state\n",
        "- **CRSDepTime**: The scheduled departure time\n",
        "- **DepDelay**: The number of minutes departure was delayed (flight that left ahead of schedule have a negative value)\n",
        "- **DelDelay15**: A binary indicator that departure was delayed by more than 15 minutes (and therefore considered \"late\")\n",
        "- **CRSArrTime**: The scheduled arrival time\n",
        "- **ArrDelay**: The number of minutes arrival was delayed (flight that arrived ahead of schedule have a negative value)\n",
        "- **ArrDelay15**: A binary indicator that arrival was delayed by more than 15 minutes (and therefore considered \"late\")\n",
        "- **Cancelled**: A binary indicator that the flight was cancelled\n",
        "\n",
        "Your challenge is to explore the flight data to analyze possible factors that affect delays in departure or arrival of a flight.\n",
        "\n",
        "1. Start by cleaning the data.\n",
        "    - Identify any null or missing data, and impute appropriate replacement values.\n",
        "    - Identify and eliminate any outliers in the **DepDelay** and **ArrDelay** columns.\n",
        "2. Explore the cleaned data.\n",
        "    - View summary statistics for the numeric fields in the dataset.\n",
        "    - Determine the distribution of the **DepDelay** and **ArrDelay** columns.\n",
        "    - Use statistics, aggregate functions, and visualizations to answer the following questions:\n",
        "        - *What are the average (mean) departure and arrival delays?*\n",
        "        - *How do the carriers compare in terms of arrival delay performance?*\n",
        "        - *Is there a noticable difference in arrival delays for different days of the week?*\n",
        "        - *Which departure airport has the highest average departure delay?*\n",
        "        - *Do **late** departures tend to result in longer arrival delays than on-time departures?*\n",
        "        - *Which route (from origin airport to destination airport) has the most **late** arrivals?*\n",
        "        - *Which route has the highest average arrival delay?*\n",
        "        \n",
        "Add markdown and code cells as required to create your solution.\n",
        "\n",
        "> **Note**: There is no single \"correct\" solution. A sample solution is provided in [01 - Flights Challenge.ipynb](01%20-%20Flights%20Solution.ipynb)."
      ]
    },
    {
      "cell_type": "code",
      "execution_count": 111,
      "metadata": {
        "colab": {
          "base_uri": "https://localhost:8080/"
        },
        "id": "cl3FjMwy61Ol",
        "outputId": "dc11e8fc-d604-4145-91ad-170752859b1a"
      },
      "outputs": [
        {
          "output_type": "stream",
          "name": "stdout",
          "text": [
            "<class 'pandas.core.frame.DataFrame'>\n",
            "RangeIndex: 271940 entries, 0 to 271939\n",
            "Data columns (total 20 columns):\n",
            " #   Column             Non-Null Count   Dtype  \n",
            "---  ------             --------------   -----  \n",
            " 0   Year               271940 non-null  int64  \n",
            " 1   Month              271940 non-null  int64  \n",
            " 2   DayofMonth         271940 non-null  int64  \n",
            " 3   DayOfWeek          271940 non-null  int64  \n",
            " 4   Carrier            271940 non-null  object \n",
            " 5   OriginAirportID    271940 non-null  int64  \n",
            " 6   OriginAirportName  271940 non-null  object \n",
            " 7   OriginCity         271940 non-null  object \n",
            " 8   OriginState        271940 non-null  object \n",
            " 9   DestAirportID      271940 non-null  int64  \n",
            " 10  DestAirportName    271940 non-null  object \n",
            " 11  DestCity           271940 non-null  object \n",
            " 12  DestState          271940 non-null  object \n",
            " 13  CRSDepTime         271940 non-null  int64  \n",
            " 14  DepDelay           271940 non-null  int64  \n",
            " 15  DepDel15           269179 non-null  float64\n",
            " 16  CRSArrTime         271940 non-null  int64  \n",
            " 17  ArrDelay           271940 non-null  int64  \n",
            " 18  ArrDel15           271940 non-null  int64  \n",
            " 19  Cancelled          271940 non-null  int64  \n",
            "dtypes: float64(1), int64(12), object(7)\n",
            "memory usage: 41.5+ MB\n"
          ]
        }
      ],
      "source": [
        "df_flights.info() #tipo de dato"
      ]
    },
    {
      "cell_type": "markdown",
      "source": [
        "##Null or missing data"
      ],
      "metadata": {
        "id": "EI0Gzc2VJq_Z"
      }
    },
    {
      "cell_type": "code",
      "source": [
        "df_flights.isnull().sum() #null data"
      ],
      "metadata": {
        "colab": {
          "base_uri": "https://localhost:8080/"
        },
        "id": "4ZNw83XT8Q1E",
        "outputId": "a8517237-40d9-46d3-af3d-7da2fc48f17a"
      },
      "execution_count": 115,
      "outputs": [
        {
          "output_type": "execute_result",
          "data": {
            "text/plain": [
              "Year                 0\n",
              "Month                0\n",
              "DayofMonth           0\n",
              "DayOfWeek            0\n",
              "Carrier              0\n",
              "OriginAirportID      0\n",
              "OriginAirportName    0\n",
              "OriginCity           0\n",
              "OriginState          0\n",
              "DestAirportID        0\n",
              "DestAirportName      0\n",
              "DestCity             0\n",
              "DestState            0\n",
              "CRSDepTime           0\n",
              "DepDelay             0\n",
              "DepDel15             0\n",
              "CRSArrTime           0\n",
              "ArrDelay             0\n",
              "ArrDel15             0\n",
              "Cancelled            0\n",
              "dtype: int64"
            ]
          },
          "metadata": {},
          "execution_count": 115
        }
      ]
    },
    {
      "cell_type": "code",
      "source": [
        "#we replace null values based on DepDelay column (The number of minutes departure was delayed)\n",
        "df_flights['DepDel15']=df_flights['DepDelay'].apply(lambda x: 1 if x>=15 else 0)"
      ],
      "metadata": {
        "id": "90tG0ofa8XE8"
      },
      "execution_count": 113,
      "outputs": []
    },
    {
      "cell_type": "code",
      "source": [
        "df_flights.head(20)"
      ],
      "metadata": {
        "colab": {
          "base_uri": "https://localhost:8080/",
          "height": 1000
        },
        "id": "6r6wftOzEN6y",
        "outputId": "2ce80e27-3824-4287-9deb-f5284ab02b8c"
      },
      "execution_count": 114,
      "outputs": [
        {
          "output_type": "execute_result",
          "data": {
            "text/plain": [
              "    Year  Month  DayofMonth  DayOfWeek Carrier  OriginAirportID  \\\n",
              "0   2013      9          16          1      DL            15304   \n",
              "1   2013      9          23          1      WN            14122   \n",
              "2   2013      9           7          6      AS            14747   \n",
              "3   2013      7          22          1      OO            13930   \n",
              "4   2013      5          16          4      DL            13931   \n",
              "5   2013      7          28          7      UA            12478   \n",
              "6   2013     10           6          7      WN            13796   \n",
              "7   2013      7          28          7      EV            12264   \n",
              "8   2013     10           8          2      AA            13930   \n",
              "9   2013      5          12          7      UA            12478   \n",
              "10  2013      6           9          7      OO            12892   \n",
              "11  2013      7          21          7      AA            13204   \n",
              "12  2013      8           4          7      WN            10821   \n",
              "13  2013      7          17          3      AA            11298   \n",
              "14  2013     10          20          7      AS            14107   \n",
              "15  2013      4          14          7      AA            12892   \n",
              "16  2013     10          31          4      MQ            11057   \n",
              "17  2013     10          11          5      DL            12889   \n",
              "18  2013      8           3          6      DL            12892   \n",
              "19  2013      6           4          2      US            14107   \n",
              "\n",
              "                                    OriginAirportName         OriginCity  \\\n",
              "0                                 Tampa International              Tampa   \n",
              "1                            Pittsburgh International         Pittsburgh   \n",
              "2                        Seattle/Tacoma International            Seattle   \n",
              "3                        Chicago O'Hare International            Chicago   \n",
              "4                               Norfolk International            Norfolk   \n",
              "5                       John F. Kennedy International           New York   \n",
              "6                  Metropolitan Oakland International            Oakland   \n",
              "7                     Washington Dulles International         Washington   \n",
              "8                        Chicago O'Hare International            Chicago   \n",
              "9                       John F. Kennedy International           New York   \n",
              "10                          Los Angeles International        Los Angeles   \n",
              "11                              Orlando International            Orlando   \n",
              "12  Baltimore/Washington International Thurgood Ma...          Baltimore   \n",
              "13                    Dallas/Fort Worth International  Dallas/Fort Worth   \n",
              "14                   Phoenix Sky Harbor International            Phoenix   \n",
              "15                          Los Angeles International        Los Angeles   \n",
              "16                    Charlotte Douglas International          Charlotte   \n",
              "17                             McCarran International          Las Vegas   \n",
              "18                          Los Angeles International        Los Angeles   \n",
              "19                   Phoenix Sky Harbor International            Phoenix   \n",
              "\n",
              "   OriginState  DestAirportID                            DestAirportName  \\\n",
              "0           FL          12478              John F. Kennedy International   \n",
              "1           PA          13232               Chicago Midway International   \n",
              "2           WA          11278          Ronald Reagan Washington National   \n",
              "3           IL          11042            Cleveland-Hopkins International   \n",
              "4           VA          10397   Hartsfield-Jackson Atlanta International   \n",
              "5           NY          14771                San Francisco International   \n",
              "6           CA          12191                            William P Hobby   \n",
              "7           DC          14524                     Richmond International   \n",
              "8           IL          11298            Dallas/Fort Worth International   \n",
              "9           NY          12892                  Los Angeles International   \n",
              "10          CA          14679                    San Diego International   \n",
              "11          FL          11298            Dallas/Fort Worth International   \n",
              "12          MD          14730  Louisville International-Standiford Field   \n",
              "13          TX          13487          Minneapolis-St Paul International   \n",
              "14          AZ          14747               Seattle/Tacoma International   \n",
              "15          CA          13830                            Kahului Airport   \n",
              "16          NC          12953                                  LaGuardia   \n",
              "17          NV          10397   Hartsfield-Jackson Atlanta International   \n",
              "18          CA          15304                        Tampa International   \n",
              "19          AZ          14057                     Portland International   \n",
              "\n",
              "             DestCity DestState  CRSDepTime  DepDelay  DepDel15  CRSArrTime  \\\n",
              "0            New York        NY        1539         4         0        1824   \n",
              "1             Chicago        IL         710         3         0         740   \n",
              "2          Washington        DC         810        -3         0        1614   \n",
              "3           Cleveland        OH         804        35         1        1027   \n",
              "4             Atlanta        GA         545        -1         0         728   \n",
              "5       San Francisco        CA        1710        87         1        2035   \n",
              "6             Houston        TX         630        -1         0        1210   \n",
              "7            Richmond        VA        2218         4         0        2301   \n",
              "8   Dallas/Fort Worth        TX        1010         8         0        1240   \n",
              "9         Los Angeles        CA        1759        40         1        2107   \n",
              "10          San Diego        CA        1404         3         0        1507   \n",
              "11  Dallas/Fort Worth        TX         930        10         0        1110   \n",
              "12         Louisville        KY        2020         1         0        2155   \n",
              "13        Minneapolis        MN        2025        95         1        2245   \n",
              "14            Seattle        WA        1330       -11         0        1628   \n",
              "15            Kahului        HI        1730        -7         0        2010   \n",
              "16           New York        NY        1630        28         1        1830   \n",
              "17            Atlanta        GA         715        -3         0        1403   \n",
              "18              Tampa        FL        2240         4         0         626   \n",
              "19           Portland        OR        1020        -5         0        1302   \n",
              "\n",
              "    ArrDelay  ArrDel15  Cancelled  \n",
              "0         13         0          0  \n",
              "1         22         1          0  \n",
              "2         -7         0          0  \n",
              "3         33         1          0  \n",
              "4         -9         0          0  \n",
              "5        183         1          0  \n",
              "6         -3         0          0  \n",
              "7         15         1          0  \n",
              "8        -10         0          0  \n",
              "9         10         0          0  \n",
              "10        -8         0          0  \n",
              "11        -4         0          0  \n",
              "12        -4         0          0  \n",
              "13        90         1          0  \n",
              "14       -15         0          0  \n",
              "15        26         1          0  \n",
              "16        26         1          0  \n",
              "17       -11         0          0  \n",
              "18        -5         0          0  \n",
              "19         1         0          0  "
            ],
            "text/html": [
              "\n",
              "  <div id=\"df-d69b9f30-7736-4931-a502-f7d12b270316\">\n",
              "    <div class=\"colab-df-container\">\n",
              "      <div>\n",
              "<style scoped>\n",
              "    .dataframe tbody tr th:only-of-type {\n",
              "        vertical-align: middle;\n",
              "    }\n",
              "\n",
              "    .dataframe tbody tr th {\n",
              "        vertical-align: top;\n",
              "    }\n",
              "\n",
              "    .dataframe thead th {\n",
              "        text-align: right;\n",
              "    }\n",
              "</style>\n",
              "<table border=\"1\" class=\"dataframe\">\n",
              "  <thead>\n",
              "    <tr style=\"text-align: right;\">\n",
              "      <th></th>\n",
              "      <th>Year</th>\n",
              "      <th>Month</th>\n",
              "      <th>DayofMonth</th>\n",
              "      <th>DayOfWeek</th>\n",
              "      <th>Carrier</th>\n",
              "      <th>OriginAirportID</th>\n",
              "      <th>OriginAirportName</th>\n",
              "      <th>OriginCity</th>\n",
              "      <th>OriginState</th>\n",
              "      <th>DestAirportID</th>\n",
              "      <th>DestAirportName</th>\n",
              "      <th>DestCity</th>\n",
              "      <th>DestState</th>\n",
              "      <th>CRSDepTime</th>\n",
              "      <th>DepDelay</th>\n",
              "      <th>DepDel15</th>\n",
              "      <th>CRSArrTime</th>\n",
              "      <th>ArrDelay</th>\n",
              "      <th>ArrDel15</th>\n",
              "      <th>Cancelled</th>\n",
              "    </tr>\n",
              "  </thead>\n",
              "  <tbody>\n",
              "    <tr>\n",
              "      <th>0</th>\n",
              "      <td>2013</td>\n",
              "      <td>9</td>\n",
              "      <td>16</td>\n",
              "      <td>1</td>\n",
              "      <td>DL</td>\n",
              "      <td>15304</td>\n",
              "      <td>Tampa International</td>\n",
              "      <td>Tampa</td>\n",
              "      <td>FL</td>\n",
              "      <td>12478</td>\n",
              "      <td>John F. Kennedy International</td>\n",
              "      <td>New York</td>\n",
              "      <td>NY</td>\n",
              "      <td>1539</td>\n",
              "      <td>4</td>\n",
              "      <td>0</td>\n",
              "      <td>1824</td>\n",
              "      <td>13</td>\n",
              "      <td>0</td>\n",
              "      <td>0</td>\n",
              "    </tr>\n",
              "    <tr>\n",
              "      <th>1</th>\n",
              "      <td>2013</td>\n",
              "      <td>9</td>\n",
              "      <td>23</td>\n",
              "      <td>1</td>\n",
              "      <td>WN</td>\n",
              "      <td>14122</td>\n",
              "      <td>Pittsburgh International</td>\n",
              "      <td>Pittsburgh</td>\n",
              "      <td>PA</td>\n",
              "      <td>13232</td>\n",
              "      <td>Chicago Midway International</td>\n",
              "      <td>Chicago</td>\n",
              "      <td>IL</td>\n",
              "      <td>710</td>\n",
              "      <td>3</td>\n",
              "      <td>0</td>\n",
              "      <td>740</td>\n",
              "      <td>22</td>\n",
              "      <td>1</td>\n",
              "      <td>0</td>\n",
              "    </tr>\n",
              "    <tr>\n",
              "      <th>2</th>\n",
              "      <td>2013</td>\n",
              "      <td>9</td>\n",
              "      <td>7</td>\n",
              "      <td>6</td>\n",
              "      <td>AS</td>\n",
              "      <td>14747</td>\n",
              "      <td>Seattle/Tacoma International</td>\n",
              "      <td>Seattle</td>\n",
              "      <td>WA</td>\n",
              "      <td>11278</td>\n",
              "      <td>Ronald Reagan Washington National</td>\n",
              "      <td>Washington</td>\n",
              "      <td>DC</td>\n",
              "      <td>810</td>\n",
              "      <td>-3</td>\n",
              "      <td>0</td>\n",
              "      <td>1614</td>\n",
              "      <td>-7</td>\n",
              "      <td>0</td>\n",
              "      <td>0</td>\n",
              "    </tr>\n",
              "    <tr>\n",
              "      <th>3</th>\n",
              "      <td>2013</td>\n",
              "      <td>7</td>\n",
              "      <td>22</td>\n",
              "      <td>1</td>\n",
              "      <td>OO</td>\n",
              "      <td>13930</td>\n",
              "      <td>Chicago O'Hare International</td>\n",
              "      <td>Chicago</td>\n",
              "      <td>IL</td>\n",
              "      <td>11042</td>\n",
              "      <td>Cleveland-Hopkins International</td>\n",
              "      <td>Cleveland</td>\n",
              "      <td>OH</td>\n",
              "      <td>804</td>\n",
              "      <td>35</td>\n",
              "      <td>1</td>\n",
              "      <td>1027</td>\n",
              "      <td>33</td>\n",
              "      <td>1</td>\n",
              "      <td>0</td>\n",
              "    </tr>\n",
              "    <tr>\n",
              "      <th>4</th>\n",
              "      <td>2013</td>\n",
              "      <td>5</td>\n",
              "      <td>16</td>\n",
              "      <td>4</td>\n",
              "      <td>DL</td>\n",
              "      <td>13931</td>\n",
              "      <td>Norfolk International</td>\n",
              "      <td>Norfolk</td>\n",
              "      <td>VA</td>\n",
              "      <td>10397</td>\n",
              "      <td>Hartsfield-Jackson Atlanta International</td>\n",
              "      <td>Atlanta</td>\n",
              "      <td>GA</td>\n",
              "      <td>545</td>\n",
              "      <td>-1</td>\n",
              "      <td>0</td>\n",
              "      <td>728</td>\n",
              "      <td>-9</td>\n",
              "      <td>0</td>\n",
              "      <td>0</td>\n",
              "    </tr>\n",
              "    <tr>\n",
              "      <th>5</th>\n",
              "      <td>2013</td>\n",
              "      <td>7</td>\n",
              "      <td>28</td>\n",
              "      <td>7</td>\n",
              "      <td>UA</td>\n",
              "      <td>12478</td>\n",
              "      <td>John F. Kennedy International</td>\n",
              "      <td>New York</td>\n",
              "      <td>NY</td>\n",
              "      <td>14771</td>\n",
              "      <td>San Francisco International</td>\n",
              "      <td>San Francisco</td>\n",
              "      <td>CA</td>\n",
              "      <td>1710</td>\n",
              "      <td>87</td>\n",
              "      <td>1</td>\n",
              "      <td>2035</td>\n",
              "      <td>183</td>\n",
              "      <td>1</td>\n",
              "      <td>0</td>\n",
              "    </tr>\n",
              "    <tr>\n",
              "      <th>6</th>\n",
              "      <td>2013</td>\n",
              "      <td>10</td>\n",
              "      <td>6</td>\n",
              "      <td>7</td>\n",
              "      <td>WN</td>\n",
              "      <td>13796</td>\n",
              "      <td>Metropolitan Oakland International</td>\n",
              "      <td>Oakland</td>\n",
              "      <td>CA</td>\n",
              "      <td>12191</td>\n",
              "      <td>William P Hobby</td>\n",
              "      <td>Houston</td>\n",
              "      <td>TX</td>\n",
              "      <td>630</td>\n",
              "      <td>-1</td>\n",
              "      <td>0</td>\n",
              "      <td>1210</td>\n",
              "      <td>-3</td>\n",
              "      <td>0</td>\n",
              "      <td>0</td>\n",
              "    </tr>\n",
              "    <tr>\n",
              "      <th>7</th>\n",
              "      <td>2013</td>\n",
              "      <td>7</td>\n",
              "      <td>28</td>\n",
              "      <td>7</td>\n",
              "      <td>EV</td>\n",
              "      <td>12264</td>\n",
              "      <td>Washington Dulles International</td>\n",
              "      <td>Washington</td>\n",
              "      <td>DC</td>\n",
              "      <td>14524</td>\n",
              "      <td>Richmond International</td>\n",
              "      <td>Richmond</td>\n",
              "      <td>VA</td>\n",
              "      <td>2218</td>\n",
              "      <td>4</td>\n",
              "      <td>0</td>\n",
              "      <td>2301</td>\n",
              "      <td>15</td>\n",
              "      <td>1</td>\n",
              "      <td>0</td>\n",
              "    </tr>\n",
              "    <tr>\n",
              "      <th>8</th>\n",
              "      <td>2013</td>\n",
              "      <td>10</td>\n",
              "      <td>8</td>\n",
              "      <td>2</td>\n",
              "      <td>AA</td>\n",
              "      <td>13930</td>\n",
              "      <td>Chicago O'Hare International</td>\n",
              "      <td>Chicago</td>\n",
              "      <td>IL</td>\n",
              "      <td>11298</td>\n",
              "      <td>Dallas/Fort Worth International</td>\n",
              "      <td>Dallas/Fort Worth</td>\n",
              "      <td>TX</td>\n",
              "      <td>1010</td>\n",
              "      <td>8</td>\n",
              "      <td>0</td>\n",
              "      <td>1240</td>\n",
              "      <td>-10</td>\n",
              "      <td>0</td>\n",
              "      <td>0</td>\n",
              "    </tr>\n",
              "    <tr>\n",
              "      <th>9</th>\n",
              "      <td>2013</td>\n",
              "      <td>5</td>\n",
              "      <td>12</td>\n",
              "      <td>7</td>\n",
              "      <td>UA</td>\n",
              "      <td>12478</td>\n",
              "      <td>John F. Kennedy International</td>\n",
              "      <td>New York</td>\n",
              "      <td>NY</td>\n",
              "      <td>12892</td>\n",
              "      <td>Los Angeles International</td>\n",
              "      <td>Los Angeles</td>\n",
              "      <td>CA</td>\n",
              "      <td>1759</td>\n",
              "      <td>40</td>\n",
              "      <td>1</td>\n",
              "      <td>2107</td>\n",
              "      <td>10</td>\n",
              "      <td>0</td>\n",
              "      <td>0</td>\n",
              "    </tr>\n",
              "    <tr>\n",
              "      <th>10</th>\n",
              "      <td>2013</td>\n",
              "      <td>6</td>\n",
              "      <td>9</td>\n",
              "      <td>7</td>\n",
              "      <td>OO</td>\n",
              "      <td>12892</td>\n",
              "      <td>Los Angeles International</td>\n",
              "      <td>Los Angeles</td>\n",
              "      <td>CA</td>\n",
              "      <td>14679</td>\n",
              "      <td>San Diego International</td>\n",
              "      <td>San Diego</td>\n",
              "      <td>CA</td>\n",
              "      <td>1404</td>\n",
              "      <td>3</td>\n",
              "      <td>0</td>\n",
              "      <td>1507</td>\n",
              "      <td>-8</td>\n",
              "      <td>0</td>\n",
              "      <td>0</td>\n",
              "    </tr>\n",
              "    <tr>\n",
              "      <th>11</th>\n",
              "      <td>2013</td>\n",
              "      <td>7</td>\n",
              "      <td>21</td>\n",
              "      <td>7</td>\n",
              "      <td>AA</td>\n",
              "      <td>13204</td>\n",
              "      <td>Orlando International</td>\n",
              "      <td>Orlando</td>\n",
              "      <td>FL</td>\n",
              "      <td>11298</td>\n",
              "      <td>Dallas/Fort Worth International</td>\n",
              "      <td>Dallas/Fort Worth</td>\n",
              "      <td>TX</td>\n",
              "      <td>930</td>\n",
              "      <td>10</td>\n",
              "      <td>0</td>\n",
              "      <td>1110</td>\n",
              "      <td>-4</td>\n",
              "      <td>0</td>\n",
              "      <td>0</td>\n",
              "    </tr>\n",
              "    <tr>\n",
              "      <th>12</th>\n",
              "      <td>2013</td>\n",
              "      <td>8</td>\n",
              "      <td>4</td>\n",
              "      <td>7</td>\n",
              "      <td>WN</td>\n",
              "      <td>10821</td>\n",
              "      <td>Baltimore/Washington International Thurgood Ma...</td>\n",
              "      <td>Baltimore</td>\n",
              "      <td>MD</td>\n",
              "      <td>14730</td>\n",
              "      <td>Louisville International-Standiford Field</td>\n",
              "      <td>Louisville</td>\n",
              "      <td>KY</td>\n",
              "      <td>2020</td>\n",
              "      <td>1</td>\n",
              "      <td>0</td>\n",
              "      <td>2155</td>\n",
              "      <td>-4</td>\n",
              "      <td>0</td>\n",
              "      <td>0</td>\n",
              "    </tr>\n",
              "    <tr>\n",
              "      <th>13</th>\n",
              "      <td>2013</td>\n",
              "      <td>7</td>\n",
              "      <td>17</td>\n",
              "      <td>3</td>\n",
              "      <td>AA</td>\n",
              "      <td>11298</td>\n",
              "      <td>Dallas/Fort Worth International</td>\n",
              "      <td>Dallas/Fort Worth</td>\n",
              "      <td>TX</td>\n",
              "      <td>13487</td>\n",
              "      <td>Minneapolis-St Paul International</td>\n",
              "      <td>Minneapolis</td>\n",
              "      <td>MN</td>\n",
              "      <td>2025</td>\n",
              "      <td>95</td>\n",
              "      <td>1</td>\n",
              "      <td>2245</td>\n",
              "      <td>90</td>\n",
              "      <td>1</td>\n",
              "      <td>0</td>\n",
              "    </tr>\n",
              "    <tr>\n",
              "      <th>14</th>\n",
              "      <td>2013</td>\n",
              "      <td>10</td>\n",
              "      <td>20</td>\n",
              "      <td>7</td>\n",
              "      <td>AS</td>\n",
              "      <td>14107</td>\n",
              "      <td>Phoenix Sky Harbor International</td>\n",
              "      <td>Phoenix</td>\n",
              "      <td>AZ</td>\n",
              "      <td>14747</td>\n",
              "      <td>Seattle/Tacoma International</td>\n",
              "      <td>Seattle</td>\n",
              "      <td>WA</td>\n",
              "      <td>1330</td>\n",
              "      <td>-11</td>\n",
              "      <td>0</td>\n",
              "      <td>1628</td>\n",
              "      <td>-15</td>\n",
              "      <td>0</td>\n",
              "      <td>0</td>\n",
              "    </tr>\n",
              "    <tr>\n",
              "      <th>15</th>\n",
              "      <td>2013</td>\n",
              "      <td>4</td>\n",
              "      <td>14</td>\n",
              "      <td>7</td>\n",
              "      <td>AA</td>\n",
              "      <td>12892</td>\n",
              "      <td>Los Angeles International</td>\n",
              "      <td>Los Angeles</td>\n",
              "      <td>CA</td>\n",
              "      <td>13830</td>\n",
              "      <td>Kahului Airport</td>\n",
              "      <td>Kahului</td>\n",
              "      <td>HI</td>\n",
              "      <td>1730</td>\n",
              "      <td>-7</td>\n",
              "      <td>0</td>\n",
              "      <td>2010</td>\n",
              "      <td>26</td>\n",
              "      <td>1</td>\n",
              "      <td>0</td>\n",
              "    </tr>\n",
              "    <tr>\n",
              "      <th>16</th>\n",
              "      <td>2013</td>\n",
              "      <td>10</td>\n",
              "      <td>31</td>\n",
              "      <td>4</td>\n",
              "      <td>MQ</td>\n",
              "      <td>11057</td>\n",
              "      <td>Charlotte Douglas International</td>\n",
              "      <td>Charlotte</td>\n",
              "      <td>NC</td>\n",
              "      <td>12953</td>\n",
              "      <td>LaGuardia</td>\n",
              "      <td>New York</td>\n",
              "      <td>NY</td>\n",
              "      <td>1630</td>\n",
              "      <td>28</td>\n",
              "      <td>1</td>\n",
              "      <td>1830</td>\n",
              "      <td>26</td>\n",
              "      <td>1</td>\n",
              "      <td>0</td>\n",
              "    </tr>\n",
              "    <tr>\n",
              "      <th>17</th>\n",
              "      <td>2013</td>\n",
              "      <td>10</td>\n",
              "      <td>11</td>\n",
              "      <td>5</td>\n",
              "      <td>DL</td>\n",
              "      <td>12889</td>\n",
              "      <td>McCarran International</td>\n",
              "      <td>Las Vegas</td>\n",
              "      <td>NV</td>\n",
              "      <td>10397</td>\n",
              "      <td>Hartsfield-Jackson Atlanta International</td>\n",
              "      <td>Atlanta</td>\n",
              "      <td>GA</td>\n",
              "      <td>715</td>\n",
              "      <td>-3</td>\n",
              "      <td>0</td>\n",
              "      <td>1403</td>\n",
              "      <td>-11</td>\n",
              "      <td>0</td>\n",
              "      <td>0</td>\n",
              "    </tr>\n",
              "    <tr>\n",
              "      <th>18</th>\n",
              "      <td>2013</td>\n",
              "      <td>8</td>\n",
              "      <td>3</td>\n",
              "      <td>6</td>\n",
              "      <td>DL</td>\n",
              "      <td>12892</td>\n",
              "      <td>Los Angeles International</td>\n",
              "      <td>Los Angeles</td>\n",
              "      <td>CA</td>\n",
              "      <td>15304</td>\n",
              "      <td>Tampa International</td>\n",
              "      <td>Tampa</td>\n",
              "      <td>FL</td>\n",
              "      <td>2240</td>\n",
              "      <td>4</td>\n",
              "      <td>0</td>\n",
              "      <td>626</td>\n",
              "      <td>-5</td>\n",
              "      <td>0</td>\n",
              "      <td>0</td>\n",
              "    </tr>\n",
              "    <tr>\n",
              "      <th>19</th>\n",
              "      <td>2013</td>\n",
              "      <td>6</td>\n",
              "      <td>4</td>\n",
              "      <td>2</td>\n",
              "      <td>US</td>\n",
              "      <td>14107</td>\n",
              "      <td>Phoenix Sky Harbor International</td>\n",
              "      <td>Phoenix</td>\n",
              "      <td>AZ</td>\n",
              "      <td>14057</td>\n",
              "      <td>Portland International</td>\n",
              "      <td>Portland</td>\n",
              "      <td>OR</td>\n",
              "      <td>1020</td>\n",
              "      <td>-5</td>\n",
              "      <td>0</td>\n",
              "      <td>1302</td>\n",
              "      <td>1</td>\n",
              "      <td>0</td>\n",
              "      <td>0</td>\n",
              "    </tr>\n",
              "  </tbody>\n",
              "</table>\n",
              "</div>\n",
              "      <button class=\"colab-df-convert\" onclick=\"convertToInteractive('df-d69b9f30-7736-4931-a502-f7d12b270316')\"\n",
              "              title=\"Convert this dataframe to an interactive table.\"\n",
              "              style=\"display:none;\">\n",
              "        \n",
              "  <svg xmlns=\"http://www.w3.org/2000/svg\" height=\"24px\"viewBox=\"0 0 24 24\"\n",
              "       width=\"24px\">\n",
              "    <path d=\"M0 0h24v24H0V0z\" fill=\"none\"/>\n",
              "    <path d=\"M18.56 5.44l.94 2.06.94-2.06 2.06-.94-2.06-.94-.94-2.06-.94 2.06-2.06.94zm-11 1L8.5 8.5l.94-2.06 2.06-.94-2.06-.94L8.5 2.5l-.94 2.06-2.06.94zm10 10l.94 2.06.94-2.06 2.06-.94-2.06-.94-.94-2.06-.94 2.06-2.06.94z\"/><path d=\"M17.41 7.96l-1.37-1.37c-.4-.4-.92-.59-1.43-.59-.52 0-1.04.2-1.43.59L10.3 9.45l-7.72 7.72c-.78.78-.78 2.05 0 2.83L4 21.41c.39.39.9.59 1.41.59.51 0 1.02-.2 1.41-.59l7.78-7.78 2.81-2.81c.8-.78.8-2.07 0-2.86zM5.41 20L4 18.59l7.72-7.72 1.47 1.35L5.41 20z\"/>\n",
              "  </svg>\n",
              "      </button>\n",
              "      \n",
              "  <style>\n",
              "    .colab-df-container {\n",
              "      display:flex;\n",
              "      flex-wrap:wrap;\n",
              "      gap: 12px;\n",
              "    }\n",
              "\n",
              "    .colab-df-convert {\n",
              "      background-color: #E8F0FE;\n",
              "      border: none;\n",
              "      border-radius: 50%;\n",
              "      cursor: pointer;\n",
              "      display: none;\n",
              "      fill: #1967D2;\n",
              "      height: 32px;\n",
              "      padding: 0 0 0 0;\n",
              "      width: 32px;\n",
              "    }\n",
              "\n",
              "    .colab-df-convert:hover {\n",
              "      background-color: #E2EBFA;\n",
              "      box-shadow: 0px 1px 2px rgba(60, 64, 67, 0.3), 0px 1px 3px 1px rgba(60, 64, 67, 0.15);\n",
              "      fill: #174EA6;\n",
              "    }\n",
              "\n",
              "    [theme=dark] .colab-df-convert {\n",
              "      background-color: #3B4455;\n",
              "      fill: #D2E3FC;\n",
              "    }\n",
              "\n",
              "    [theme=dark] .colab-df-convert:hover {\n",
              "      background-color: #434B5C;\n",
              "      box-shadow: 0px 1px 3px 1px rgba(0, 0, 0, 0.15);\n",
              "      filter: drop-shadow(0px 1px 2px rgba(0, 0, 0, 0.3));\n",
              "      fill: #FFFFFF;\n",
              "    }\n",
              "  </style>\n",
              "\n",
              "      <script>\n",
              "        const buttonEl =\n",
              "          document.querySelector('#df-d69b9f30-7736-4931-a502-f7d12b270316 button.colab-df-convert');\n",
              "        buttonEl.style.display =\n",
              "          google.colab.kernel.accessAllowed ? 'block' : 'none';\n",
              "\n",
              "        async function convertToInteractive(key) {\n",
              "          const element = document.querySelector('#df-d69b9f30-7736-4931-a502-f7d12b270316');\n",
              "          const dataTable =\n",
              "            await google.colab.kernel.invokeFunction('convertToInteractive',\n",
              "                                                     [key], {});\n",
              "          if (!dataTable) return;\n",
              "\n",
              "          const docLinkHtml = 'Like what you see? Visit the ' +\n",
              "            '<a target=\"_blank\" href=https://colab.research.google.com/notebooks/data_table.ipynb>data table notebook</a>'\n",
              "            + ' to learn more about interactive tables.';\n",
              "          element.innerHTML = '';\n",
              "          dataTable['output_type'] = 'display_data';\n",
              "          await google.colab.output.renderOutput(dataTable, element);\n",
              "          const docLink = document.createElement('div');\n",
              "          docLink.innerHTML = docLinkHtml;\n",
              "          element.appendChild(docLink);\n",
              "        }\n",
              "      </script>\n",
              "    </div>\n",
              "  </div>\n",
              "  "
            ]
          },
          "metadata": {},
          "execution_count": 114
        }
      ]
    },
    {
      "cell_type": "markdown",
      "source": [
        "##Outliers"
      ],
      "metadata": {
        "id": "jDuIXzHIJug1"
      }
    },
    {
      "cell_type": "code",
      "source": [
        "df_flights[['DepDelay','ArrDelay']].plot(kind = 'box', figsize = (12, 12), sharex = False, subplots = True);\n",
        "plt.title(\"Boxplot DepDelay y ArrDelay\")"
      ],
      "metadata": {
        "colab": {
          "base_uri": "https://localhost:8080/",
          "height": 1000
        },
        "id": "KbXnMZPRJk9r",
        "outputId": "b692779e-02ff-4c81-8410-5d4c2dffdd33"
      },
      "execution_count": 66,
      "outputs": [
        {
          "output_type": "execute_result",
          "data": {
            "text/plain": [
              "Text(0.5, 1.0, 'Boxplot DepDelay y ArrDelay')"
            ]
          },
          "metadata": {},
          "execution_count": 66
        },
        {
          "output_type": "display_data",
          "data": {
            "text/plain": [
              "<Figure size 1200x1200 with 2 Axes>"
            ],
            "image/png": "[encoded data removed]"
          },
          "metadata": {}
        }
      ]
    },
    {
      "cell_type": "code",
      "source": [
        "df_flights['DepDelay'].describe()"
      ],
      "metadata": {
        "colab": {
          "base_uri": "https://localhost:8080/"
        },
        "id": "swAbI-JaMzKn",
        "outputId": "4f8f24c4-4654-404b-ca2f-114ab746fccf"
      },
      "execution_count": 67,
      "outputs": [
        {
          "output_type": "execute_result",
          "data": {
            "text/plain": [
              "count    271940.000000\n",
              "mean         10.350449\n",
              "std          35.673710\n",
              "min         -63.000000\n",
              "25%          -4.000000\n",
              "50%          -1.000000\n",
              "75%           9.000000\n",
              "max        1425.000000\n",
              "Name: DepDelay, dtype: float64"
            ]
          },
          "metadata": {},
          "execution_count": 67
        }
      ]
    },
    {
      "cell_type": "code",
      "source": [
        "df_flights['ArrDelay'].describe()"
      ],
      "metadata": {
        "colab": {
          "base_uri": "https://localhost:8080/"
        },
        "id": "QdeJm3VCNfwN",
        "outputId": "8e80cb10-82ef-4d92-9548-99a97464f168"
      },
      "execution_count": 68,
      "outputs": [
        {
          "output_type": "execute_result",
          "data": {
            "text/plain": [
              "count    271940.000000\n",
              "mean          6.496650\n",
              "std          38.230331\n",
              "min         -75.000000\n",
              "25%         -11.000000\n",
              "50%          -3.000000\n",
              "75%          10.000000\n",
              "max        1440.000000\n",
              "Name: ArrDelay, dtype: float64"
            ]
          },
          "metadata": {},
          "execution_count": 68
        }
      ]
    },
    {
      "cell_type": "code",
      "source": [
        "plt.hist(df_flights['DepDelay'], bins=12, density=True)\n",
        "plt.title(\"DepDelay Histogram \")\n",
        "plt.xlabel(\"Datos\")\n",
        "plt.ylabel(\"Probabilidad\")\n",
        "plt.show()"
      ],
      "metadata": {
        "colab": {
          "base_uri": "https://localhost:8080/",
          "height": 472
        },
        "id": "XyjZGcvaOkAb",
        "outputId": "bbd35b1f-fd58-48f2-a9f1-0ab785341031"
      },
      "execution_count": 69,
      "outputs": [
        {
          "output_type": "display_data",
          "data": {
            "text/plain": [
              "<Figure size 640x480 with 1 Axes>"
            ],
            "image/png": "[encoded data removed]"
          },
          "metadata": {}
        }
      ]
    },
    {
      "cell_type": "code",
      "source": [
        "plt.hist(df_flights['ArrDelay'], bins=12, density=True)\n",
        "plt.title(\"ArrDelay Histogram\")\n",
        "plt.xlabel(\"Datos\")\n",
        "plt.ylabel(\"Probabilidad\")\n",
        "plt.show()"
      ],
      "metadata": {
        "colab": {
          "base_uri": "https://localhost:8080/",
          "height": 472
        },
        "id": "rBNcOxH5O6fO",
        "outputId": "f46d8987-7a4f-478c-9da6-14cfaef30ee1"
      },
      "execution_count": 70,
      "outputs": [
        {
          "output_type": "display_data",
          "data": {
            "text/plain": [
              "<Figure size 640x480 with 1 Axes>"
            ],
            "image/png": "[encoded data removed]"
          },
          "metadata": {}
        }
      ]
    },
    {
      "cell_type": "code",
      "source": [
        "q3, q1 = np.percentile(df_flights['DepDelay'], [75, 25]) #percentiles of departure times\n",
        "print(q3, q1) #75% of the flights took up to 9 minutes to leave or left up to 4 minutes before."
      ],
      "metadata": {
        "colab": {
          "base_uri": "https://localhost:8080/"
        },
        "id": "lkFJdTwBRQJd",
        "outputId": "8896ae8f-062c-4a74-b76c-405b11ee328e"
      },
      "execution_count": 71,
      "outputs": [
        {
          "output_type": "stream",
          "name": "stdout",
          "text": [
            "9.0 -4.0\n"
          ]
        }
      ]
    },
    {
      "cell_type": "code",
      "source": [
        "q3_, q1_ = np.percentile(df_flights['ArrDelay'], [75, 25]) #percentiles of arrival times\n",
        "print(q3_, q1_) #75% of flights took up to 10 minutes to arrive or arrived up to 11 minutes early."
      ],
      "metadata": {
        "colab": {
          "base_uri": "https://localhost:8080/"
        },
        "id": "JB-RnNxMRvUy",
        "outputId": "405782a2-bef5-41a5-c357-3031ee4a4efe"
      },
      "execution_count": 72,
      "outputs": [
        {
          "output_type": "stream",
          "name": "stdout",
          "text": [
            "10.0 -11.0\n"
          ]
        }
      ]
    },
    {
      "cell_type": "markdown",
      "source": [
        "###Outliers removal"
      ],
      "metadata": {
        "id": "hJ6Q3hVnWnF0"
      }
    },
    {
      "cell_type": "markdown",
      "source": [
        "####Departure Delay"
      ],
      "metadata": {
        "id": "2XjCYWYXb2j5"
      }
    },
    {
      "cell_type": "code",
      "source": [
        "df_flights_1 = df_flights[df_flights['DepDelay'] <= 60.00] #we remove flights that left up to 60 minutes late"
      ],
      "metadata": {
        "id": "iJ8bMubBPS-e"
      },
      "execution_count": 73,
      "outputs": []
    },
    {
      "cell_type": "code",
      "source": [
        "df_flights_1 =df_flights_1[df_flights['DepDelay'] >= -15.00] #we remove flights that left up to 15 minutes early"
      ],
      "metadata": {
        "colab": {
          "base_uri": "https://localhost:8080/"
        },
        "id": "zZN8JLAkYw1W",
        "outputId": "55f8938b-52e3-4679-bceb-bf102a211e0e"
      },
      "execution_count": 74,
      "outputs": [
        {
          "output_type": "stream",
          "name": "stderr",
          "text": [
            "<ipython-input-74-e0612cca12fb>:1: UserWarning: Boolean Series key will be reindexed to match DataFrame index.\n",
            "  df_flights_1 =df_flights_1[df_flights['DepDelay'] >= -15.00] #we remove flights that left up to 15 minutes early\n"
          ]
        }
      ]
    },
    {
      "cell_type": "code",
      "source": [
        "df_flights_1['DepDelay'].describe()"
      ],
      "metadata": {
        "colab": {
          "base_uri": "https://localhost:8080/"
        },
        "id": "PowcSX-CXhNF",
        "outputId": "23631089-703f-415c-c799-3e23b630f1ee"
      },
      "execution_count": 75,
      "outputs": [
        {
          "output_type": "execute_result",
          "data": {
            "text/plain": [
              "count    255225.000000\n",
              "mean          3.331903\n",
              "std          13.249083\n",
              "min         -15.000000\n",
              "25%          -4.000000\n",
              "50%          -1.000000\n",
              "75%           6.000000\n",
              "max          60.000000\n",
              "Name: DepDelay, dtype: float64"
            ]
          },
          "metadata": {},
          "execution_count": 75
        }
      ]
    },
    {
      "cell_type": "markdown",
      "source": [
        "####Arrive Delay"
      ],
      "metadata": {
        "id": "ynDVYIncb_PZ"
      }
    },
    {
      "cell_type": "code",
      "source": [
        "df_flights_1['ArrDelay'].describe()"
      ],
      "metadata": {
        "colab": {
          "base_uri": "https://localhost:8080/"
        },
        "id": "_WNN-hhcbOWQ",
        "outputId": "91c66426-53b4-45b7-9d21-e49570efe2fc"
      },
      "execution_count": 76,
      "outputs": [
        {
          "output_type": "execute_result",
          "data": {
            "text/plain": [
              "count    255225.000000\n",
              "mean         -0.622208\n",
              "std          18.199390\n",
              "min         -75.000000\n",
              "25%         -12.000000\n",
              "50%          -4.000000\n",
              "75%           7.000000\n",
              "max         204.000000\n",
              "Name: ArrDelay, dtype: float64"
            ]
          },
          "metadata": {},
          "execution_count": 76
        }
      ]
    },
    {
      "cell_type": "code",
      "source": [
        "df_flights_1 = df_flights_1[df_flights_1['ArrDelay'] >= -15.00] #we remove flights that arrived up to 15 minutes early"
      ],
      "metadata": {
        "id": "9N4Dom95cLCw"
      },
      "execution_count": 77,
      "outputs": []
    },
    {
      "cell_type": "code",
      "source": [
        "df_flights_1 =df_flights_1[df_flights_1['ArrDelay'] <= 60.00] #we remote flights that arrived up to 60 minutes late"
      ],
      "metadata": {
        "id": "_qjpbfWscRVX"
      },
      "execution_count": 78,
      "outputs": []
    },
    {
      "cell_type": "markdown",
      "source": [
        "##Explore the cleaned data"
      ],
      "metadata": {
        "id": "zl8BTH8dx8Fw"
      }
    },
    {
      "cell_type": "code",
      "source": [
        "df = df_flights_1 #we rename dataset"
      ],
      "metadata": {
        "id": "Iq_dYwdAxqc_"
      },
      "execution_count": 79,
      "outputs": []
    },
    {
      "cell_type": "markdown",
      "source": [
        "###View summary statistics for the numeric fields in the dataset."
      ],
      "metadata": {
        "id": "xw36uupIyE1g"
      }
    },
    {
      "cell_type": "code",
      "source": [
        "df.describe()"
      ],
      "metadata": {
        "colab": {
          "base_uri": "https://localhost:8080/",
          "height": 364
        },
        "id": "NnqXvvdDxllE",
        "outputId": "804f2809-8c1f-4564-e36d-44599125d955"
      },
      "execution_count": 80,
      "outputs": [
        {
          "output_type": "execute_result",
          "data": {
            "text/plain": [
              "           Year          Month     DayofMonth      DayOfWeek  OriginAirportID  \\\n",
              "count  212064.0  212064.000000  212064.000000  212064.000000    212064.000000   \n",
              "mean     2013.0       6.989239      15.854511       3.892693     12765.025860   \n",
              "std         0.0       1.980378       8.795381       1.982014      1510.877096   \n",
              "min      2013.0       4.000000       1.000000       1.000000     10140.000000   \n",
              "25%      2013.0       5.000000       8.000000       2.000000     11292.000000   \n",
              "50%      2013.0       7.000000      16.000000       4.000000     12892.000000   \n",
              "75%      2013.0       9.000000      23.000000       6.000000     14100.000000   \n",
              "max      2013.0      10.000000      31.000000       7.000000     15376.000000   \n",
              "\n",
              "       DestAirportID     CRSDepTime       DepDelay       DepDel15  \\\n",
              "count  212064.000000  212064.000000  212064.000000  212064.000000   \n",
              "mean    12741.980364    1316.826628       4.444899       0.168921   \n",
              "std      1516.104508     467.676042      13.375091       0.374683   \n",
              "min     10140.000000       1.000000     -15.000000       0.000000   \n",
              "25%     11292.000000     915.000000      -4.000000       0.000000   \n",
              "50%     12892.000000    1310.000000       0.000000       0.000000   \n",
              "75%     14100.000000    1715.000000       8.000000       0.000000   \n",
              "max     15376.000000    2359.000000      60.000000       1.000000   \n",
              "\n",
              "          CRSArrTime       ArrDelay       ArrDel15      Cancelled  \n",
              "count  212064.000000  212064.000000  212064.000000  212064.000000  \n",
              "mean     1495.943126       2.634299       0.188891       0.013529  \n",
              "std       488.513573      14.805342       0.391423       0.115525  \n",
              "min         1.000000     -15.000000       0.000000       0.000000  \n",
              "25%      1115.000000      -8.000000       0.000000       0.000000  \n",
              "50%      1519.000000      -1.000000       0.000000       0.000000  \n",
              "75%      1910.000000       9.000000       0.000000       0.000000  \n",
              "max      2359.000000      60.000000       1.000000       1.000000  "
            ],
            "text/html": [
              "\n",
              "  <div id=\"df-910f4610-b4a4-486d-84c4-bd160a7909d3\">\n",
              "    <div class=\"colab-df-container\">\n",
              "      <div>\n",
              "<style scoped>\n",
              "    .dataframe tbody tr th:only-of-type {\n",
              "        vertical-align: middle;\n",
              "    }\n",
              "\n",
              "    .dataframe tbody tr th {\n",
              "        vertical-align: top;\n",
              "    }\n",
              "\n",
              "    .dataframe thead th {\n",
              "        text-align: right;\n",
              "    }\n",
              "</style>\n",
              "<table border=\"1\" class=\"dataframe\">\n",
              "  <thead>\n",
              "    <tr style=\"text-align: right;\">\n",
              "      <th></th>\n",
              "      <th>Year</th>\n",
              "      <th>Month</th>\n",
              "      <th>DayofMonth</th>\n",
              "      <th>DayOfWeek</th>\n",
              "      <th>OriginAirportID</th>\n",
              "      <th>DestAirportID</th>\n",
              "      <th>CRSDepTime</th>\n",
              "      <th>DepDelay</th>\n",
              "      <th>DepDel15</th>\n",
              "      <th>CRSArrTime</th>\n",
              "      <th>ArrDelay</th>\n",
              "      <th>ArrDel15</th>\n",
              "      <th>Cancelled</th>\n",
              "    </tr>\n",
              "  </thead>\n",
              "  <tbody>\n",
              "    <tr>\n",
              "      <th>count</th>\n",
              "      <td>212064.0</td>\n",
              "      <td>212064.000000</td>\n",
              "      <td>212064.000000</td>\n",
              "      <td>212064.000000</td>\n",
              "      <td>212064.000000</td>\n",
              "      <td>212064.000000</td>\n",
              "      <td>212064.000000</td>\n",
              "      <td>212064.000000</td>\n",
              "      <td>212064.000000</td>\n",
              "      <td>212064.000000</td>\n",
              "      <td>212064.000000</td>\n",
              "      <td>212064.000000</td>\n",
              "      <td>212064.000000</td>\n",
              "    </tr>\n",
              "    <tr>\n",
              "      <th>mean</th>\n",
              "      <td>2013.0</td>\n",
              "      <td>6.989239</td>\n",
              "      <td>15.854511</td>\n",
              "      <td>3.892693</td>\n",
              "      <td>12765.025860</td>\n",
              "      <td>12741.980364</td>\n",
              "      <td>1316.826628</td>\n",
              "      <td>4.444899</td>\n",
              "      <td>0.168921</td>\n",
              "      <td>1495.943126</td>\n",
              "      <td>2.634299</td>\n",
              "      <td>0.188891</td>\n",
              "      <td>0.013529</td>\n",
              "    </tr>\n",
              "    <tr>\n",
              "      <th>std</th>\n",
              "      <td>0.0</td>\n",
              "      <td>1.980378</td>\n",
              "      <td>8.795381</td>\n",
              "      <td>1.982014</td>\n",
              "      <td>1510.877096</td>\n",
              "      <td>1516.104508</td>\n",
              "      <td>467.676042</td>\n",
              "      <td>13.375091</td>\n",
              "      <td>0.374683</td>\n",
              "      <td>488.513573</td>\n",
              "      <td>14.805342</td>\n",
              "      <td>0.391423</td>\n",
              "      <td>0.115525</td>\n",
              "    </tr>\n",
              "    <tr>\n",
              "      <th>min</th>\n",
              "      <td>2013.0</td>\n",
              "      <td>4.000000</td>\n",
              "      <td>1.000000</td>\n",
              "      <td>1.000000</td>\n",
              "      <td>10140.000000</td>\n",
              "      <td>10140.000000</td>\n",
              "      <td>1.000000</td>\n",
              "      <td>-15.000000</td>\n",
              "      <td>0.000000</td>\n",
              "      <td>1.000000</td>\n",
              "      <td>-15.000000</td>\n",
              "      <td>0.000000</td>\n",
              "      <td>0.000000</td>\n",
              "    </tr>\n",
              "    <tr>\n",
              "      <th>25%</th>\n",
              "      <td>2013.0</td>\n",
              "      <td>5.000000</td>\n",
              "      <td>8.000000</td>\n",
              "      <td>2.000000</td>\n",
              "      <td>11292.000000</td>\n",
              "      <td>11292.000000</td>\n",
              "      <td>915.000000</td>\n",
              "      <td>-4.000000</td>\n",
              "      <td>0.000000</td>\n",
              "      <td>1115.000000</td>\n",
              "      <td>-8.000000</td>\n",
              "      <td>0.000000</td>\n",
              "      <td>0.000000</td>\n",
              "    </tr>\n",
              "    <tr>\n",
              "      <th>50%</th>\n",
              "      <td>2013.0</td>\n",
              "      <td>7.000000</td>\n",
              "      <td>16.000000</td>\n",
              "      <td>4.000000</td>\n",
              "      <td>12892.000000</td>\n",
              "      <td>12892.000000</td>\n",
              "      <td>1310.000000</td>\n",
              "      <td>0.000000</td>\n",
              "      <td>0.000000</td>\n",
              "      <td>1519.000000</td>\n",
              "      <td>-1.000000</td>\n",
              "      <td>0.000000</td>\n",
              "      <td>0.000000</td>\n",
              "    </tr>\n",
              "    <tr>\n",
              "      <th>75%</th>\n",
              "      <td>2013.0</td>\n",
              "      <td>9.000000</td>\n",
              "      <td>23.000000</td>\n",
              "      <td>6.000000</td>\n",
              "      <td>14100.000000</td>\n",
              "      <td>14100.000000</td>\n",
              "      <td>1715.000000</td>\n",
              "      <td>8.000000</td>\n",
              "      <td>0.000000</td>\n",
              "      <td>1910.000000</td>\n",
              "      <td>9.000000</td>\n",
              "      <td>0.000000</td>\n",
              "      <td>0.000000</td>\n",
              "    </tr>\n",
              "    <tr>\n",
              "      <th>max</th>\n",
              "      <td>2013.0</td>\n",
              "      <td>10.000000</td>\n",
              "      <td>31.000000</td>\n",
              "      <td>7.000000</td>\n",
              "      <td>15376.000000</td>\n",
              "      <td>15376.000000</td>\n",
              "      <td>2359.000000</td>\n",
              "      <td>60.000000</td>\n",
              "      <td>1.000000</td>\n",
              "      <td>2359.000000</td>\n",
              "      <td>60.000000</td>\n",
              "      <td>1.000000</td>\n",
              "      <td>1.000000</td>\n",
              "    </tr>\n",
              "  </tbody>\n",
              "</table>\n",
              "</div>\n",
              "      <button class=\"colab-df-convert\" onclick=\"convertToInteractive('df-910f4610-b4a4-486d-84c4-bd160a7909d3')\"\n",
              "              title=\"Convert this dataframe to an interactive table.\"\n",
              "              style=\"display:none;\">\n",
              "        \n",
              "  <svg xmlns=\"http://www.w3.org/2000/svg\" height=\"24px\"viewBox=\"0 0 24 24\"\n",
              "       width=\"24px\">\n",
              "    <path d=\"M0 0h24v24H0V0z\" fill=\"none\"/>\n",
              "    <path d=\"M18.56 5.44l.94 2.06.94-2.06 2.06-.94-2.06-.94-.94-2.06-.94 2.06-2.06.94zm-11 1L8.5 8.5l.94-2.06 2.06-.94-2.06-.94L8.5 2.5l-.94 2.06-2.06.94zm10 10l.94 2.06.94-2.06 2.06-.94-2.06-.94-.94-2.06-.94 2.06-2.06.94z\"/><path d=\"M17.41 7.96l-1.37-1.37c-.4-.4-.92-.59-1.43-.59-.52 0-1.04.2-1.43.59L10.3 9.45l-7.72 7.72c-.78.78-.78 2.05 0 2.83L4 21.41c.39.39.9.59 1.41.59.51 0 1.02-.2 1.41-.59l7.78-7.78 2.81-2.81c.8-.78.8-2.07 0-2.86zM5.41 20L4 18.59l7.72-7.72 1.47 1.35L5.41 20z\"/>\n",
              "  </svg>\n",
              "      </button>\n",
              "      \n",
              "  <style>\n",
              "    .colab-df-container {\n",
              "      display:flex;\n",
              "      flex-wrap:wrap;\n",
              "      gap: 12px;\n",
              "    }\n",
              "\n",
              "    .colab-df-convert {\n",
              "      background-color: #E8F0FE;\n",
              "      border: none;\n",
              "      border-radius: 50%;\n",
              "      cursor: pointer;\n",
              "      display: none;\n",
              "      fill: #1967D2;\n",
              "      height: 32px;\n",
              "      padding: 0 0 0 0;\n",
              "      width: 32px;\n",
              "    }\n",
              "\n",
              "    .colab-df-convert:hover {\n",
              "      background-color: #E2EBFA;\n",
              "      box-shadow: 0px 1px 2px rgba(60, 64, 67, 0.3), 0px 1px 3px 1px rgba(60, 64, 67, 0.15);\n",
              "      fill: #174EA6;\n",
              "    }\n",
              "\n",
              "    [theme=dark] .colab-df-convert {\n",
              "      background-color: #3B4455;\n",
              "      fill: #D2E3FC;\n",
              "    }\n",
              "\n",
              "    [theme=dark] .colab-df-convert:hover {\n",
              "      background-color: #434B5C;\n",
              "      box-shadow: 0px 1px 3px 1px rgba(0, 0, 0, 0.15);\n",
              "      filter: drop-shadow(0px 1px 2px rgba(0, 0, 0, 0.3));\n",
              "      fill: #FFFFFF;\n",
              "    }\n",
              "  </style>\n",
              "\n",
              "      <script>\n",
              "        const buttonEl =\n",
              "          document.querySelector('#df-910f4610-b4a4-486d-84c4-bd160a7909d3 button.colab-df-convert');\n",
              "        buttonEl.style.display =\n",
              "          google.colab.kernel.accessAllowed ? 'block' : 'none';\n",
              "\n",
              "        async function convertToInteractive(key) {\n",
              "          const element = document.querySelector('#df-910f4610-b4a4-486d-84c4-bd160a7909d3');\n",
              "          const dataTable =\n",
              "            await google.colab.kernel.invokeFunction('convertToInteractive',\n",
              "                                                     [key], {});\n",
              "          if (!dataTable) return;\n",
              "\n",
              "          const docLinkHtml = 'Like what you see? Visit the ' +\n",
              "            '<a target=\"_blank\" href=https://colab.research.google.com/notebooks/data_table.ipynb>data table notebook</a>'\n",
              "            + ' to learn more about interactive tables.';\n",
              "          element.innerHTML = '';\n",
              "          dataTable['output_type'] = 'display_data';\n",
              "          await google.colab.output.renderOutput(dataTable, element);\n",
              "          const docLink = document.createElement('div');\n",
              "          docLink.innerHTML = docLinkHtml;\n",
              "          element.appendChild(docLink);\n",
              "        }\n",
              "      </script>\n",
              "    </div>\n",
              "  </div>\n",
              "  "
            ]
          },
          "metadata": {},
          "execution_count": 80
        }
      ]
    },
    {
      "cell_type": "markdown",
      "source": [
        "###Determine the distribution of the DepDelay and ArrDelay columns."
      ],
      "metadata": {
        "id": "888qlhDDyVkt"
      }
    },
    {
      "cell_type": "code",
      "source": [
        "plt.hist(df['DepDelay'], bins=5, density=True)\n",
        "plt.title(\"ArrDelay Histogram\")\n",
        "plt.xlabel(\"Datos\")\n",
        "plt.ylabel(\"Probabilidad\")\n",
        "plt.show()"
      ],
      "metadata": {
        "colab": {
          "base_uri": "https://localhost:8080/",
          "height": 472
        },
        "id": "9Vj_bzrsyXLb",
        "outputId": "44e8556a-cca8-4146-c868-b73f15a2438c"
      },
      "execution_count": 81,
      "outputs": [
        {
          "output_type": "display_data",
          "data": {
            "text/plain": [
              "<Figure size 640x480 with 1 Axes>"
            ],
            "image/png": "[encoded data removed]"
          },
          "metadata": {}
        }
      ]
    },
    {
      "cell_type": "code",
      "source": [
        "plt.hist(df['ArrDelay'], bins=5, density=True)\n",
        "plt.title(\"ArrDelay Histrogram\")\n",
        "plt.xlabel(\"Datos\")\n",
        "plt.ylabel(\"Probabilidad\")\n",
        "plt.show()"
      ],
      "metadata": {
        "colab": {
          "base_uri": "https://localhost:8080/",
          "height": 472
        },
        "id": "Iomw-l9rym21",
        "outputId": "a464efa8-c51b-4588-e9fe-9c5fb30b55f0"
      },
      "execution_count": 82,
      "outputs": [
        {
          "output_type": "display_data",
          "data": {
            "text/plain": [
              "<Figure size 640x480 with 1 Axes>"
            ],
            "image/png": "[encoded data removed]"
          },
          "metadata": {}
        }
      ]
    },
    {
      "cell_type": "markdown",
      "source": [
        "###What are the average (mean) departure and arrival delays?"
      ],
      "metadata": {
        "id": "g1ly_fLZyvnh"
      }
    },
    {
      "cell_type": "code",
      "source": [
        "df['ArrDelay'].mean() #the average arrival delay is 2,6 minutes"
      ],
      "metadata": {
        "colab": {
          "base_uri": "https://localhost:8080/"
        },
        "id": "IGjdVIP1y7Sh",
        "outputId": "0d07ce22-6753-4730-c7a6-c106f81dbac1"
      },
      "execution_count": 83,
      "outputs": [
        {
          "output_type": "execute_result",
          "data": {
            "text/plain": [
              "2.6342990795231627"
            ]
          },
          "metadata": {},
          "execution_count": 83
        }
      ]
    },
    {
      "cell_type": "code",
      "source": [
        "df['DepDelay'].mean() #the average departure delay is 4,4 minutes"
      ],
      "metadata": {
        "colab": {
          "base_uri": "https://localhost:8080/"
        },
        "id": "5AOiFwWyzMly",
        "outputId": "8b96642a-d71b-4dd9-a063-82846056c44e"
      },
      "execution_count": 84,
      "outputs": [
        {
          "output_type": "execute_result",
          "data": {
            "text/plain": [
              "4.444898709823449"
            ]
          },
          "metadata": {},
          "execution_count": 84
        }
      ]
    },
    {
      "cell_type": "markdown",
      "source": [
        "###How do the carriers compare in terms of arrival delay performance?\n"
      ],
      "metadata": {
        "id": "8bSFQaNryxZl"
      }
    },
    {
      "cell_type": "code",
      "source": [
        "df['Carrier'].nunique() #to know amount of carriers"
      ],
      "metadata": {
        "colab": {
          "base_uri": "https://localhost:8080/"
        },
        "id": "r_9p5h3Ezv47",
        "outputId": "45116939-1525-42f7-bd88-6351f29b6631"
      },
      "execution_count": 85,
      "outputs": [
        {
          "output_type": "execute_result",
          "data": {
            "text/plain": [
              "16"
            ]
          },
          "metadata": {},
          "execution_count": 85
        }
      ]
    },
    {
      "cell_type": "code",
      "source": [
        "df['Carrier'].unique()"
      ],
      "metadata": {
        "colab": {
          "base_uri": "https://localhost:8080/"
        },
        "id": "XMsE8lWs161O",
        "outputId": "355f616f-44c8-4b29-ff1e-a37824f5e4d2"
      },
      "execution_count": 86,
      "outputs": [
        {
          "output_type": "execute_result",
          "data": {
            "text/plain": [
              "array(['DL', 'WN', 'AS', 'OO', 'EV', 'AA', 'UA', 'MQ', 'US', 'YV', 'FL',\n",
              "       'F9', 'B6', 'VX', '9E', 'HA'], dtype=object)"
            ]
          },
          "metadata": {},
          "execution_count": 86
        }
      ]
    },
    {
      "cell_type": "code",
      "source": [
        "avg_time = df.groupby('Carrier')['ArrDelay'].mean()\n",
        "avg_time"
      ],
      "metadata": {
        "colab": {
          "base_uri": "https://localhost:8080/"
        },
        "id": "QWvKTuYg4wC8",
        "outputId": "81264146-4aaa-4f03-81e9-f45ba1630812"
      },
      "execution_count": 87,
      "outputs": [
        {
          "output_type": "execute_result",
          "data": {
            "text/plain": [
              "Carrier\n",
              "9E    0.863866\n",
              "AA    2.956532\n",
              "AS    1.262936\n",
              "B6    3.446372\n",
              "DL    0.274309\n",
              "EV    2.754676\n",
              "F9    4.851768\n",
              "FL    3.198368\n",
              "HA   -0.115159\n",
              "MQ    4.759941\n",
              "OO    1.667651\n",
              "UA    2.494754\n",
              "US    2.191608\n",
              "VX    1.712644\n",
              "WN    4.134763\n",
              "YV    1.592358\n",
              "Name: ArrDelay, dtype: float64"
            ]
          },
          "metadata": {},
          "execution_count": 87
        }
      ]
    },
    {
      "cell_type": "code",
      "source": [
        "avg_time.plot(kind='bar', title='Average times of delays in arrivals by carriers') #Carriers B6, F9, MQ and VX are the ones with the most delays"
      ],
      "metadata": {
        "colab": {
          "base_uri": "https://localhost:8080/",
          "height": 499
        },
        "id": "_iVJdJdM0LmB",
        "outputId": "af281876-1ab0-4fa2-a993-3f696c64c636"
      },
      "execution_count": 88,
      "outputs": [
        {
          "output_type": "execute_result",
          "data": {
            "text/plain": [
              "<Axes: title={'center': 'Average times of delays in arrivals by carriers'}, xlabel='Carrier'>"
            ]
          },
          "metadata": {},
          "execution_count": 88
        },
        {
          "output_type": "display_data",
          "data": {
            "text/plain": [
              "<Figure size 640x480 with 1 Axes>"
            ],
            "image/png": "[encoded data removed]"
          },
          "metadata": {}
        }
      ]
    },
    {
      "cell_type": "markdown",
      "source": [
        "###Is there a noticable difference in arrival delays for different days of the week?"
      ],
      "metadata": {
        "id": "K2xqhXzCyzAH"
      }
    },
    {
      "cell_type": "code",
      "source": [
        "avg_time_byday = df.groupby('DayOfWeek')['ArrDelay'].mean() #Thursdays and Fridays are the days with the longest arrival delays\n",
        "avg_time_byday"
      ],
      "metadata": {
        "colab": {
          "base_uri": "https://localhost:8080/"
        },
        "id": "2StsDOna6I8Y",
        "outputId": "8fac5f99-df3c-4a5d-d4d3-9b05ef3780cf"
      },
      "execution_count": 89,
      "outputs": [
        {
          "output_type": "execute_result",
          "data": {
            "text/plain": [
              "DayOfWeek\n",
              "1    2.698128\n",
              "2    1.735101\n",
              "3    2.686009\n",
              "4    4.028310\n",
              "5    3.470809\n",
              "6    1.149103\n",
              "7    2.266630\n",
              "Name: ArrDelay, dtype: float64"
            ]
          },
          "metadata": {},
          "execution_count": 89
        }
      ]
    },
    {
      "cell_type": "code",
      "source": [
        "avg_time_byday.plot(kind='bar', title='Average times of delays in arrivals by days')"
      ],
      "metadata": {
        "colab": {
          "base_uri": "https://localhost:8080/",
          "height": 484
        },
        "id": "Tzv8r55d6_tv",
        "outputId": "097ba31d-a9cc-4ebe-e80b-0b12653b2c13"
      },
      "execution_count": 90,
      "outputs": [
        {
          "output_type": "execute_result",
          "data": {
            "text/plain": [
              "<Axes: title={'center': 'Average times of delays in arrivals by days'}, xlabel='DayOfWeek'>"
            ]
          },
          "metadata": {},
          "execution_count": 90
        },
        {
          "output_type": "display_data",
          "data": {
            "text/plain": [
              "<Figure size 640x480 with 1 Axes>"
            ],
            "image/png": "[encoded data removed]"
          },
          "metadata": {}
        }
      ]
    },
    {
      "cell_type": "markdown",
      "source": [
        "###Which departure airport has the highest average departure delay?"
      ],
      "metadata": {
        "id": "6qmyxX1vy0bl"
      }
    },
    {
      "cell_type": "code",
      "source": [
        "avg_time_airport = df.groupby('OriginAirportName')['DepDelay'].mean()"
      ],
      "metadata": {
        "id": "zo6ru5EO7On-"
      },
      "execution_count": 91,
      "outputs": []
    },
    {
      "cell_type": "code",
      "source": [
        "avg_time_airport.idxmax()"
      ],
      "metadata": {
        "colab": {
          "base_uri": "https://localhost:8080/",
          "height": 36
        },
        "id": "YeC7rytA9bN3",
        "outputId": "4998a551-8ce7-4d46-a963-68d095a85ed1"
      },
      "execution_count": 92,
      "outputs": [
        {
          "output_type": "execute_result",
          "data": {
            "text/plain": [
              "'Chicago Midway International'"
            ],
            "application/vnd.google.colaboratory.intrinsic+json": {
              "type": "string"
            }
          },
          "metadata": {},
          "execution_count": 92
        }
      ]
    },
    {
      "cell_type": "code",
      "source": [
        "# we filter the DataFrame to include only the rows corresponding to the airport with the longest delay\n",
        "df_filtrado = df[df['OriginAirportName'] == 'Chicago Midway International']\n",
        "\n",
        "# we calculate the average delay time in departures for the airport with the longest delay\n",
        "highest_avg_time_airport = df_filtrado['DepDelay'].mean()"
      ],
      "metadata": {
        "id": "h58vKVO8-iGe"
      },
      "execution_count": 93,
      "outputs": []
    },
    {
      "cell_type": "code",
      "source": [
        "print(f\"The airport {avg_time_airport.idxmax()} has the highest average dealy on departures : {highest_avg_time_airport} minutes\")"
      ],
      "metadata": {
        "colab": {
          "base_uri": "https://localhost:8080/"
        },
        "id": "hjdmkk1j8bED",
        "outputId": "3ae25b6c-76ab-46bb-aabe-a7df65f5b892"
      },
      "execution_count": 94,
      "outputs": [
        {
          "output_type": "stream",
          "name": "stdout",
          "text": [
            "The airport Chicago Midway International has the highest average dealy on departures : 10.052794292508917 minutes\n"
          ]
        }
      ]
    },
    {
      "cell_type": "markdown",
      "source": [
        "###Do late departures tend to result in longer arrival delays than on-time departures?"
      ],
      "metadata": {
        "id": "hkKm4wkfy17n"
      }
    },
    {
      "cell_type": "code",
      "source": [
        "late_departure_late_arrival = ((df['DepDel15'] == 1) & (df['ArrDel15'] == 1)).sum()\n",
        "print(f\"Late departures that determined a late arrival are: {late_departure_late_arrival}\")"
      ],
      "metadata": {
        "colab": {
          "base_uri": "https://localhost:8080/"
        },
        "id": "xVCW3euo_AsO",
        "outputId": "f3aec7fa-9264-4321-8760-e74d312249c1"
      },
      "execution_count": 95,
      "outputs": [
        {
          "output_type": "stream",
          "name": "stdout",
          "text": [
            "Late departures that determined a late arrival are: 25110\n"
          ]
        }
      ]
    },
    {
      "cell_type": "code",
      "source": [
        "ontime_departures_late_arrival = ((df['DepDel15'] == 0) & (df['ArrDel15'] == 1)).sum()\n",
        "print(f\"On time departures that determined a late arrival are: {ontime_departures_late_arrival}\")"
      ],
      "metadata": {
        "colab": {
          "base_uri": "https://localhost:8080/"
        },
        "id": "84rarqISCt8a",
        "outputId": "c961a07b-517c-4a4f-c0bc-8e3391d79c89"
      },
      "execution_count": 96,
      "outputs": [
        {
          "output_type": "stream",
          "name": "stdout",
          "text": [
            "On time departures that determined a late arrival are: 14947\n"
          ]
        }
      ]
    },
    {
      "cell_type": "markdown",
      "source": [
        "###Which route (from origin airport to destination airport) has the most late arrivals?"
      ],
      "metadata": {
        "id": "uimCGohjy3ZF"
      }
    },
    {
      "cell_type": "code",
      "source": [
        "df['route'] = df['OriginAirportName']+ '-' + df['DestAirportName']"
      ],
      "metadata": {
        "id": "yuuCS5GrDAe8"
      },
      "execution_count": 97,
      "outputs": []
    },
    {
      "cell_type": "code",
      "source": [
        "most_late_arrival_route = df.groupby('route')['ArrDel15'].sum()\n",
        "most_late_arrival_route"
      ],
      "metadata": {
        "colab": {
          "base_uri": "https://localhost:8080/"
        },
        "id": "c5cpb-s4FC8w",
        "outputId": "c6c08689-ad56-458c-fa16-3af33da32727"
      },
      "execution_count": 98,
      "outputs": [
        {
          "output_type": "execute_result",
          "data": {
            "text/plain": [
              "route\n",
              "Albuquerque International Sunport-Baltimore/Washington International Thurgood Marshall     1\n",
              "Albuquerque International Sunport-Chicago Midway International                            13\n",
              "Albuquerque International Sunport-Chicago O'Hare International                             7\n",
              "Albuquerque International Sunport-Dallas Love Field                                       18\n",
              "Albuquerque International Sunport-Dallas/Fort Worth International                         21\n",
              "                                                                                          ..\n",
              "William P Hobby-San Antonio International                                                 14\n",
              "William P Hobby-San Diego International                                                   17\n",
              "William P Hobby-Seattle/Tacoma International                                               2\n",
              "William P Hobby-Tampa International                                                       18\n",
              "William P Hobby-Will Rogers World                                                         20\n",
              "Name: ArrDel15, Length: 2477, dtype: int64"
            ]
          },
          "metadata": {},
          "execution_count": 98
        }
      ]
    },
    {
      "cell_type": "code",
      "source": [
        "most_late_arrival_route.idxmax()"
      ],
      "metadata": {
        "colab": {
          "base_uri": "https://localhost:8080/",
          "height": 36
        },
        "id": "nvzFvApqDxGo",
        "outputId": "89225d1a-4590-4b71-8ee2-5a99e61e8c91"
      },
      "execution_count": 99,
      "outputs": [
        {
          "output_type": "execute_result",
          "data": {
            "text/plain": [
              "'San Francisco International-Los Angeles International'"
            ],
            "application/vnd.google.colaboratory.intrinsic+json": {
              "type": "string"
            }
          },
          "metadata": {},
          "execution_count": 99
        }
      ]
    },
    {
      "cell_type": "code",
      "source": [
        "df_filtrado_2 = df[df['route'] == 'San Francisco International-Los Angeles International']"
      ],
      "metadata": {
        "id": "QuUhA7nPEmWN"
      },
      "execution_count": 100,
      "outputs": []
    },
    {
      "cell_type": "code",
      "source": [
        "most_late_arrival_route_time = df_filtrado_2['DepDelay'].max()"
      ],
      "metadata": {
        "id": "2aAfAW8CFgS0"
      },
      "execution_count": 101,
      "outputs": []
    },
    {
      "cell_type": "code",
      "source": [
        "print(f\"The route {most_late_arrival_route.idxmax()} has the most late arrival time: {most_late_arrival_route_time} late arrivals\")"
      ],
      "metadata": {
        "colab": {
          "base_uri": "https://localhost:8080/"
        },
        "id": "rF68yAxDEP4W",
        "outputId": "b7209e70-def6-42cd-f199-73579d7fa79d"
      },
      "execution_count": 102,
      "outputs": [
        {
          "output_type": "stream",
          "name": "stdout",
          "text": [
            "The route San Francisco International-Los Angeles International has the most late arrival time: 59 late arrivals\n"
          ]
        }
      ]
    },
    {
      "cell_type": "markdown",
      "source": [
        "###Which route has the highest average arrival delay?"
      ],
      "metadata": {
        "id": "szEqHBYfy434"
      }
    },
    {
      "cell_type": "code",
      "source": [
        "avg_time_arrival_delay_route = df.groupby('route')['ArrDel15'].mean()"
      ],
      "metadata": {
        "id": "RPg8flp-HG9j"
      },
      "execution_count": 103,
      "outputs": []
    },
    {
      "cell_type": "code",
      "source": [
        "avg_time_arrival_delay_route"
      ],
      "metadata": {
        "colab": {
          "base_uri": "https://localhost:8080/"
        },
        "id": "WwRdpeC7HUmr",
        "outputId": "94497004-856c-4cd5-ebb3-e9a4737109e0"
      },
      "execution_count": 104,
      "outputs": [
        {
          "output_type": "execute_result",
          "data": {
            "text/plain": [
              "route\n",
              "Albuquerque International Sunport-Baltimore/Washington International Thurgood Marshall    0.032258\n",
              "Albuquerque International Sunport-Chicago Midway International                            0.317073\n",
              "Albuquerque International Sunport-Chicago O'Hare International                            0.189189\n",
              "Albuquerque International Sunport-Dallas Love Field                                       0.132353\n",
              "Albuquerque International Sunport-Dallas/Fort Worth International                         0.139073\n",
              "                                                                                            ...   \n",
              "William P Hobby-San Antonio International                                                 0.166667\n",
              "William P Hobby-San Diego International                                                   0.309091\n",
              "William P Hobby-Seattle/Tacoma International                                              0.333333\n",
              "William P Hobby-Tampa International                                                       0.260870\n",
              "William P Hobby-Will Rogers World                                                         0.273973\n",
              "Name: ArrDel15, Length: 2477, dtype: float64"
            ]
          },
          "metadata": {},
          "execution_count": 104
        }
      ]
    },
    {
      "cell_type": "code",
      "source": [
        "avg_time_arrival_delay_route.idxmax()"
      ],
      "metadata": {
        "colab": {
          "base_uri": "https://localhost:8080/",
          "height": 36
        },
        "id": "UG7Tph6wHRX3",
        "outputId": "28840af5-d4b9-45c0-ceaa-25574fff802c"
      },
      "execution_count": 105,
      "outputs": [
        {
          "output_type": "execute_result",
          "data": {
            "text/plain": [
              "'Cleveland-Hopkins International-Palm Beach International'"
            ],
            "application/vnd.google.colaboratory.intrinsic+json": {
              "type": "string"
            }
          },
          "metadata": {},
          "execution_count": 105
        }
      ]
    },
    {
      "cell_type": "code",
      "source": [
        "df_filtrado_3 = df[df['route'] == 'Cleveland-Hopkins International-Palm Beach International']"
      ],
      "metadata": {
        "id": "kBvfY-u72WKG"
      },
      "execution_count": 106,
      "outputs": []
    },
    {
      "cell_type": "code",
      "source": [
        "highest_avg_time_arrival_delay_route = df_filtrado_3['ArrDel15'].max()"
      ],
      "metadata": {
        "id": "qivoWJZ72Zog"
      },
      "execution_count": 107,
      "outputs": []
    },
    {
      "cell_type": "code",
      "source": [
        "print(f\"The route {avg_time_arrival_delay_route.idxmax()} has the higheste late arrival average: {highest_avg_time_arrival_delay_route} min.\")"
      ],
      "metadata": {
        "colab": {
          "base_uri": "https://localhost:8080/"
        },
        "id": "APkYA1h_2ish",
        "outputId": "1e4d41cc-cdfd-47a9-d361-9fed10402b5e"
      },
      "execution_count": 108,
      "outputs": [
        {
          "output_type": "stream",
          "name": "stdout",
          "text": [
            "The route Cleveland-Hopkins International-Palm Beach International has the higheste late arrival average: 1 min.\n"
          ]
        }
      ]
    }
  ],
  "metadata": {
    "kernelspec": {
      "display_name": "Python 3.6 - AzureML",
      "language": "python",
      "name": "python3-azureml"
    },
    "language_info": {
      "codemirror_mode": {
        "name": "ipython",
        "version": 3
      },
      "file_extension": ".py",
      "mimetype": "text/x-python",
      "name": "python",
      "nbconvert_exporter": "python",
      "pygments_lexer": "ipython3",
      "version": "3.6.9"
    },
    "colab": {
      "provenance": [],
      "toc_visible": true
    }
  },
  "nbformat": 4,
  "nbformat_minor": 0
}